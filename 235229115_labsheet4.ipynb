{
 "cells": [
  {
   "cell_type": "code",
   "execution_count": null,
   "id": "ad2cba28",
   "metadata": {},
   "outputs": [],
   "source": [
    "Question1. Write a program for Password Management System\n",
    " File creation: Ask user to enter N user names and their passwords. Store usernames\n",
    "and passwords into a file named “loginfile.txt”. Store each user and password in one\n",
    "line.\n",
    " File Processing: Write a program that opens your “security.txt” file and reads\n",
    "usernames and passwords from it. Store user names in one list and passwords in\n",
    "another lists.\n",
    " Querying: ask user to enter user name and password for verification. If they match\n",
    "the values stored in the lists, print a message “Login Successful”. Otherwise print a\n",
    "message “Login Failed, try again”."
   ]
  },
  {
   "cell_type": "code",
   "execution_count": 5,
   "id": "684d046a",
   "metadata": {},
   "outputs": [
    {
     "name": "stdout",
     "output_type": "stream",
     "text": [
      "Enter the number of users: 2\n",
      "Enter username 1: joe\n",
      "Enter password 1: kkk\n",
      "Enter username 2: kiran\n",
      "Enter password 2: fff\n"
     ]
    }
   ],
   "source": [
    "def create_login_file():\n",
    "    n = int(input(\"Enter the number of users: \"))\n",
    "    \n",
    "    with open(\"loginfile.txt\", \"w\") as file:\n",
    "        for i in range(n):\n",
    "            username = input(f\"Enter username {i+1}: \")\n",
    "            password = input(f\"Enter password {i+1}: \")\n",
    "            file.write(f\"{username},{password}\\n\")\n",
    "\n",
    "# Call the function to create the file\n",
    "create_login_file()\n"
   ]
  },
  {
   "cell_type": "code",
   "execution_count": 8,
   "id": "f71b3bab",
   "metadata": {},
   "outputs": [],
   "source": [
    "def read_login_file():\n",
    "    usernames = []\n",
    "    passwords = []\n",
    "\n",
    "    with open(\"loginfile.txt\", \"r\") as file:\n",
    "        for line in file:\n",
    "            username, password = line.strip().split(',')\n",
    "            usernames.append(username)\n",
    "            passwords.append(password)\n",
    "\n",
    "    return usernames, passwords\n",
    "\n",
    "# Call the function to read the file and get the lists\n",
    "usernames_list, passwords_list = read_login_file()\n"
   ]
  },
  {
   "cell_type": "code",
   "execution_count": null,
   "id": "24433b64",
   "metadata": {},
   "outputs": [],
   "source": []
  },
  {
   "cell_type": "code",
   "execution_count": 7,
   "id": "b624c283",
   "metadata": {},
   "outputs": [
    {
     "name": "stdout",
     "output_type": "stream",
     "text": [
      "Enter your username: joe\n",
      "Enter your password: kkk\n",
      "Login Successful\n"
     ]
    }
   ],
   "source": [
    "def login():\n",
    "    entered_username = input(\"Enter your username: \")\n",
    "    entered_password = input(\"Enter your password: \")\n",
    "\n",
    "    if entered_username in usernames_list and entered_password == passwords_list[usernames_list.index(entered_username)]:\n",
    "        print(\"Login Successful\")\n",
    "    else:\n",
    "        print(\"Login Failed, try again\")\n",
    "\n",
    "# Call the login function to perform the login process\n",
    "login()\n"
   ]
  },
  {
   "cell_type": "code",
   "execution_count": null,
   "id": "0cf57deb",
   "metadata": {},
   "outputs": [],
   "source": [
    "Question2. Write a program for Student Performance Analysis\n",
    " Create a text file, 'marks.txt', with N marks as floating point numbers. Open the file,\n",
    "read marks from it and compute and print the highest mark.\n",
    " If the user runs the program more than once you should not overwrite the previous\n",
    "text file – simply append the marks to the end of the file.\n",
    " Modify the above program so that it also prints Top-3 highest marks (Note: you may\n",
    "need to use list concept)\n",
    " Modify the above program so that it also prints the Lowest-3 marks."
   ]
  },
  {
   "cell_type": "code",
   "execution_count": 1,
   "id": "2c355aa1",
   "metadata": {},
   "outputs": [
    {
     "name": "stdout",
     "output_type": "stream",
     "text": [
      "Enter the number of marks to add: 3\n",
      "Enter mark 1: 50\n",
      "Enter mark 2: 60\n",
      "Enter mark 3: 70\n"
     ]
    }
   ],
   "source": [
    "def write_marks_to_file():\n",
    "    n = int(input(\"Enter the number of marks to add: \"))\n",
    "\n",
    "    with open(\"marks.txt\", \"a\") as file:\n",
    "        for i in range(n):\n",
    "            mark = float(input(f\"Enter mark {i+1}: \"))\n",
    "            file.write(f\"{mark}\\n\")\n",
    "\n",
    "# Call the function to add marks to the file\n",
    "write_marks_to_file()\n"
   ]
  },
  {
   "cell_type": "code",
   "execution_count": 2,
   "id": "064a1e5c",
   "metadata": {},
   "outputs": [
    {
     "name": "stdout",
     "output_type": "stream",
     "text": [
      "The highest mark is: 70.0\n"
     ]
    }
   ],
   "source": [
    "def compute_highest_mark():\n",
    "    highest_mark = float(\"-inf\")\n",
    "\n",
    "    with open(\"marks.txt\", \"r\") as file:\n",
    "        for line in file:\n",
    "            mark = float(line.strip())\n",
    "            if mark > highest_mark:\n",
    "                highest_mark = mark\n",
    "\n",
    "    return highest_mark\n",
    "\n",
    "# Call the function to compute and print the highest mark\n",
    "highest_mark = compute_highest_mark()\n",
    "print(f\"The highest mark is: {highest_mark}\")\n"
   ]
  },
  {
   "cell_type": "code",
   "execution_count": 3,
   "id": "85df5686",
   "metadata": {},
   "outputs": [
    {
     "name": "stdout",
     "output_type": "stream",
     "text": [
      "Top-3 highest marks are:\n",
      "1. 70.0\n",
      "2. 60.0\n",
      "3. 50.0\n"
     ]
    }
   ],
   "source": [
    "def compute_top_three_marks():\n",
    "    top_three_marks = []\n",
    "\n",
    "    with open(\"marks.txt\", \"r\") as file:\n",
    "        for line in file:\n",
    "            mark = float(line.strip())\n",
    "            top_three_marks.append(mark)\n",
    "\n",
    "    top_three_marks.sort(reverse=True)\n",
    "    return top_three_marks[:3]\n",
    "\n",
    "# Call the function to compute and print the Top-3 highest marks\n",
    "top_three_marks = compute_top_three_marks()\n",
    "print(\"Top-3 highest marks are:\")\n",
    "for i, mark in enumerate(top_three_marks, start=1):\n",
    "    print(f\"{i}. {mark}\")\n"
   ]
  },
  {
   "cell_type": "code",
   "execution_count": 4,
   "id": "105e1e18",
   "metadata": {},
   "outputs": [
    {
     "name": "stdout",
     "output_type": "stream",
     "text": [
      "Lowest-3 marks are:\n",
      "1. 50.0\n",
      "2. 60.0\n",
      "3. 70.0\n"
     ]
    }
   ],
   "source": [
    "def compute_lowest_three_marks():\n",
    "    lowest_three_marks = []\n",
    "\n",
    "    with open(\"marks.txt\", \"r\") as file:\n",
    "        for line in file:\n",
    "            mark = float(line.strip())\n",
    "            lowest_three_marks.append(mark)\n",
    "\n",
    "    lowest_three_marks.sort()\n",
    "    return lowest_three_marks[:3]\n",
    "\n",
    "# Call the function to compute and print the Lowest-3 marks\n",
    "lowest_three_marks = compute_lowest_three_marks()\n",
    "print(\"Lowest-3 marks are:\")\n",
    "for i, mark in enumerate(lowest_three_marks, start=1):\n",
    "    print(f\"{i}. {mark}\")\n"
   ]
  },
  {
   "cell_type": "code",
   "execution_count": null,
   "id": "66fc2133",
   "metadata": {},
   "outputs": [],
   "source": [
    "Question3. Write a program for Stock Price Analysis\n",
    " File Creation: Continually prompt a user for stock name, followed by price values for\n",
    "5 days. Each row indicates stock name and daily prices of one stock. Store these\n",
    "values in a text file called “stock-prices.txt”. Open the file in Append Mode. Prompt\n",
    "message “Do you want to continue? “ and stop reading values accordingly. Then, you\n",
    "can close your file.\n",
    " File Processing: Now, open your file for processing. Print stock name, minimum\n",
    "price, maximum price and average price values.\n",
    " You can also print which day stock price was lowest in the week and which day stock\n",
    "price was highest. So, modify your print statement to print stock name, minimum\n",
    "price & day of minimum price, maximum price & day of maximum price and average\n",
    "price values. (Hint: Use enumerate to get index values)"
   ]
  },
  {
   "cell_type": "code",
   "execution_count": 9,
   "id": "f9bc6288",
   "metadata": {},
   "outputs": [
    {
     "name": "stdout",
     "output_type": "stream",
     "text": [
      "Enter the stock name: gold\n",
      "Enter the price for day 1: 50000\n",
      "Enter the price for day 2: 60000\n",
      "Enter the price for day 3: 70000\n",
      "Enter the price for day 4: 60000\n",
      "Enter the price for day 5: 750000\n",
      "Do you want to continue? (yes/no): no\n"
     ]
    }
   ],
   "source": [
    "def create_stock_prices_file():\n",
    "    with open(\"stock-prices.txt\", \"a\") as file:\n",
    "        while True:\n",
    "            stock_name = input(\"Enter the stock name: \")\n",
    "            prices = []\n",
    "            for day in range(1, 6):\n",
    "                price = float(input(f\"Enter the price for day {day}: \"))\n",
    "                prices.append(price)\n",
    "            file.write(f\"{stock_name},{','.join(map(str, prices))}\\n\")\n",
    "            \n",
    "            continue_input = input(\"Do you want to continue? (yes/no): \")\n",
    "            if continue_input.lower() != \"yes\":\n",
    "                break\n",
    "\n",
    "# Call the function to create the stock prices file\n",
    "create_stock_prices_file()\n",
    "\n"
   ]
  },
  {
   "cell_type": "code",
   "execution_count": 10,
   "id": "d5921172",
   "metadata": {},
   "outputs": [
    {
     "name": "stdout",
     "output_type": "stream",
     "text": [
      "Stock Name: gold\n",
      "Minimum Price: 50000.0, Day: 1\n",
      "Maximum Price: 750000.0, Day: 5\n",
      "Average Price: 198000.00\n",
      "\n"
     ]
    }
   ],
   "source": [
    "def process_stock_prices_file():\n",
    "    with open(\"stock-prices.txt\", \"r\") as file:\n",
    "        for line in file:\n",
    "            data = line.strip().split(',')\n",
    "            stock_name = data[0]\n",
    "            prices = list(map(float, data[1:]))\n",
    "\n",
    "            min_price = min(prices)\n",
    "            max_price = max(prices)\n",
    "            avg_price = sum(prices) / len(prices)\n",
    "\n",
    "            min_day = prices.index(min_price) + 1\n",
    "            max_day = prices.index(max_price) + 1\n",
    "\n",
    "            print(f\"Stock Name: {stock_name}\")\n",
    "            print(f\"Minimum Price: {min_price}, Day: {min_day}\")\n",
    "            print(f\"Maximum Price: {max_price}, Day: {max_day}\")\n",
    "            print(f\"Average Price: {avg_price:.2f}\\n\")\n",
    "\n",
    "# Call the function to process the stock prices file\n",
    "process_stock_prices_file()\n"
   ]
  },
  {
   "cell_type": "code",
   "execution_count": null,
   "id": "934e7382",
   "metadata": {},
   "outputs": [],
   "source": [
    "Question4. Write a program for File Explorer\n",
    " Display the contents of file\n",
    " Count the number of lines in a text file. (Use splitlines())\n",
    " Count the number of unique words in a file.\n",
    " Find frequency of words in a given file. (Hint: Use Counter object)\n",
    " Show a random line in a file. (Use Random object)"
   ]
  },
  {
   "cell_type": "markdown",
   "id": "7ee5cd3f",
   "metadata": {},
   "source": []
  },
  {
   "cell_type": "code",
   "execution_count": 1,
   "id": "1e3087f3",
   "metadata": {},
   "outputs": [
    {
     "name": "stdout",
     "output_type": "stream",
     "text": [
      "Enter the filename: samp.txt\n",
      "\n",
      "Menu:\n",
      "1. Display File Contents\n",
      "2. Count Number of Lines\n",
      "3. Count Number of Unique Words\n",
      "4. Find Word Frequency\n",
      "5. Show Random Line\n",
      "6. Exit\n",
      "Enter your choice (1-6): 1\n",
      "File Contents:\n",
      "What is data science used for?\n",
      "Data science is used to study data in four main ways:\n",
      "\n",
      "1. Descriptive analysis\n",
      "Descriptive analysis examines data to gain insights into what happened or what is happening in the data environment. It is characterized by data visualizations such as pie charts, bar charts, line graphs, tables, or generated narratives. For example, a flight booking service may record data like the number of tickets booked each day. Descriptive analysis will reveal booking spikes, booking slumps, and high-performing months for this service.\n",
      "\n",
      "2. Diagnostic analysis\n",
      "Diagnostic analysis is a deep-dive or detailed data examination to understand why something happened. It is characterized by techniques such as drill-down, data discovery, data mining, and correlations. Multiple data operations and transformations may be performed on a given data set to discover unique patterns in each of these techniques.For example, the flight service might drill down on a particularly high-performing month to better understand the booking spike. This may lead to the discovery that many customers visit a particular city to attend a monthly sporting event.\n",
      "\n",
      "3. Predictive analysis\n",
      "Predictive analysis uses historical data to make accurate forecasts about data patterns that may occur in the future. It is characterized by techniques such as machine learning, forecasting, pattern matching, and predictive modeling. In each of these techniques, computers are trained to reverse engineer causality connections in the data.For example, the flight service team might use data science to predict flight booking patterns for the coming year at the start of each year. The computer program or algorithm may look at past data and predict booking spikes for certain destinations in May. Having anticipated their customerâ€™s future travel requirements, the company could start targeted advertising for those cities from February.\n",
      "\n",
      "4. Prescriptive analysis\n",
      "Prescriptive analytics takes predictive data to the next level. It not only predicts what is likely to happen but also suggests an optimum response to that outcome. It can analyze the potential implications of different choices and recommend the best course of action. It uses graph analysis, simulation, complex event processing, neural networks, and recommendation engines from machine learning.         \n",
      "\n",
      "Back to the flight booking example, prescriptive analysis could look at historical marketing campaigns to maximize the advantage of the upcoming booking spike. A data scientist could project booking outcomes for different levels of marketing spend on various marketing channels. These data forecasts would give the flight booking company greater confidence in their marketing decisions.\n",
      "\n",
      "Menu:\n",
      "1. Display File Contents\n",
      "2. Count Number of Lines\n",
      "3. Count Number of Unique Words\n",
      "4. Find Word Frequency\n",
      "5. Show Random Line\n",
      "6. Exit\n",
      "Enter your choice (1-6): 2\n",
      "Number of lines in the file: 16\n",
      "\n",
      "Menu:\n",
      "1. Display File Contents\n",
      "2. Count Number of Lines\n",
      "3. Count Number of Unique Words\n",
      "4. Find Word Frequency\n",
      "5. Show Random Line\n",
      "6. Exit\n",
      "Enter your choice (1-6): 3\n",
      "Number of unique words in the file: 232\n",
      "\n",
      "Menu:\n",
      "1. Display File Contents\n",
      "2. Count Number of Lines\n",
      "3. Count Number of Unique Words\n",
      "4. Find Word Frequency\n",
      "5. Show Random Line\n",
      "6. Exit\n",
      "Enter your choice (1-6): 5\n",
      "Random Line:\n",
      "\n",
      "\n",
      "Menu:\n",
      "1. Display File Contents\n",
      "2. Count Number of Lines\n",
      "3. Count Number of Unique Words\n",
      "4. Find Word Frequency\n",
      "5. Show Random Line\n",
      "6. Exit\n",
      "Enter your choice (1-6): 6\n",
      "Exiting File Explorer.\n"
     ]
    }
   ],
   "source": [
    "import random\n",
    "from collections import Counter\n",
    "\n",
    "def display_file_contents(filename):\n",
    "    try:\n",
    "        with open(filename, \"r\") as file:\n",
    "            contents = file.read()\n",
    "            print(\"File Contents:\")\n",
    "            print(contents)\n",
    "    except FileNotFoundError:\n",
    "        print(f\"Error: File '{filename}' not found.\")\n",
    "\n",
    "def count_lines(filename):\n",
    "    try:\n",
    "        with open(filename, \"r\") as file:\n",
    "            lines = file.read().splitlines()\n",
    "            num_lines = len(lines)\n",
    "            print(f\"Number of lines in the file: {num_lines}\")\n",
    "    except FileNotFoundError:\n",
    "        print(f\"Error: File '{filename}' not found.\")\n",
    "\n",
    "def count_unique_words(filename):\n",
    "    try:\n",
    "        with open(filename, \"r\") as file:\n",
    "            words = file.read().split()\n",
    "            num_unique_words = len(set(words))\n",
    "            print(f\"Number of unique words in the file: {num_unique_words}\")\n",
    "    except FileNotFoundError:\n",
    "        print(f\"Error: File '{filename}' not found.\")\n",
    "\n",
    "def find_word_frequency(filename):\n",
    "    try:\n",
    "        with open(filename, \"r\") as file:\n",
    "            words = file.read().split()\n",
    "            word_frequency = Counter(words)\n",
    "            print(\"Word Frequency:\")\n",
    "            for word, frequency in word_frequency.items():\n",
    "                print(f\"{word}: {frequency}\")\n",
    "    except FileNotFoundError:\n",
    "        print(f\"Error: File '{filename}' not found.\")\n",
    "\n",
    "def show_random_line(filename):\n",
    "    try:\n",
    "        with open(filename, \"r\") as file:\n",
    "            lines = file.read().splitlines()\n",
    "            random_line = random.choice(lines)\n",
    "            print(\"Random Line:\")\n",
    "            print(random_line)\n",
    "    except FileNotFoundError:\n",
    "        print(f\"Error: File '{filename}' not found.\")\n",
    "\n",
    "def file_explorer():\n",
    "    filename = input(\"Enter the filename: \")\n",
    "\n",
    "    while True:\n",
    "        print(\"\\nMenu:\")\n",
    "        print(\"1. Display File Contents\")\n",
    "        print(\"2. Count Number of Lines\")\n",
    "        print(\"3. Count Number of Unique Words\")\n",
    "        print(\"4. Find Word Frequency\")\n",
    "        print(\"5. Show Random Line\")\n",
    "        print(\"6. Exit\")\n",
    "\n",
    "        choice = input(\"Enter your choice (1-6): \")\n",
    "\n",
    "        if choice == \"1\":\n",
    "            display_file_contents(filename)\n",
    "        elif choice == \"2\":\n",
    "            count_lines(filename)\n",
    "        elif choice == \"3\":\n",
    "            count_unique_words(filename)\n",
    "        elif choice == \"4\":\n",
    "            find_word_frequency(filename)\n",
    "        elif choice == \"5\":\n",
    "            show_random_line(filename)\n",
    "        elif choice == \"6\":\n",
    "            print(\"Exiting File Explorer.\")\n",
    "            break\n",
    "        else:\n",
    "            print(\"Invalid choice. Please enter a valid option.\")\n",
    "\n",
    "# Call the file_explorer function to start the program\n",
    "file_explorer()\n"
   ]
  },
  {
   "cell_type": "code",
   "execution_count": null,
   "id": "17ecd617",
   "metadata": {},
   "outputs": [],
   "source": [
    "Question5. [File Searcher]. Develop an application in Python to read through the email data\n",
    "(“mbox-short.txt”) and when you find line that starts with “From”, you will split the line into\n",
    "words using the split function. We are interested in who sent the message, which is the\n",
    "second word on the From line: From stephen.marquard@uct.ac.za Sat Jan 5 09:14:16 2008.\n",
    "You will parse the From line and print out the second word for each From line, then you will\n",
    "also count the number of From (not From:) lines and print out a count at the end"
   ]
  },
  {
   "cell_type": "code",
   "execution_count": 11,
   "id": "8e7fbf5c",
   "metadata": {},
   "outputs": [
    {
     "ename": "TypeError",
     "evalue": "read_email_data() takes 0 positional arguments but 1 was given",
     "output_type": "error",
     "traceback": [
      "\u001b[1;31m---------------------------------------------------------------------------\u001b[0m",
      "\u001b[1;31mTypeError\u001b[0m                                 Traceback (most recent call last)",
      "Cell \u001b[1;32mIn[11], line 19\u001b[0m\n\u001b[0;32m     16\u001b[0m         \u001b[38;5;28mprint\u001b[39m(\u001b[38;5;124mf\u001b[39m\u001b[38;5;124m\"\u001b[39m\u001b[38;5;124mError: File \u001b[39m\u001b[38;5;124m'\u001b[39m\u001b[38;5;132;01m{\u001b[39;00mmbox\u001b[38;5;241m-\u001b[39mshort\u001b[38;5;241m.\u001b[39mtxt\u001b[38;5;132;01m}\u001b[39;00m\u001b[38;5;124m'\u001b[39m\u001b[38;5;124m not found.\u001b[39m\u001b[38;5;124m\"\u001b[39m)\n\u001b[0;32m     18\u001b[0m \u001b[38;5;66;03m# Call the function to read email data and extract sender information\u001b[39;00m\n\u001b[1;32m---> 19\u001b[0m read_email_data(\u001b[38;5;124m\"\u001b[39m\u001b[38;5;124mmbox-short.txt\u001b[39m\u001b[38;5;124m\"\u001b[39m)\n",
      "\u001b[1;31mTypeError\u001b[0m: read_email_data() takes 0 positional arguments but 1 was given"
     ]
    }
   ],
   "source": [
    "def read_email_data(mbox-short.txt):\n",
    "    from_count = 0\n",
    "\n",
    "    try:\n",
    "        with open(\"mbox-short.txt\", \"r\") as file:\n",
    "            for line in file:\n",
    "                if line.startswith(\"From \"):  # Make sure to include the space after \"From\"\n",
    "                    from_count += 1\n",
    "                    words = line.strip().split()\n",
    "                    sender = words[1]\n",
    "                    print(sender)\n",
    "\n",
    "        print(f\"Total number of From lines: {from_count}\")\n",
    "\n",
    "    except FileNotFoundError:\n",
    "        print(f\"Error: File '{mbox-short.txt}' not found.\")\n",
    "\n",
    "# Call the function to read email data and extract sender information\n",
    "read_email_data(\"mbox-short.txt\")\n"
   ]
  },
  {
   "cell_type": "code",
   "execution_count": null,
   "id": "fbeac65e",
   "metadata": {},
   "outputs": [],
   "source": [
    "Question6. Write a program to read and write CSV files\n",
    " File Creation: Create MS Excel file (“student_marks.csv”) with 5 rows of student\n",
    "name, mark1, mark2, mark3, mark4. Use comma to separate each value in a row.\n",
    " File Display: Now, open your CSV file and display the file contents row by row (More\n",
    "information at: https://docs.python.org/3/library/csv.html).\n",
    " File Writing: Now, open (“student_marks.csv”) for writing. Ask user to enter name\n",
    "followed by 4 marks for one new student and write them onto the file."
   ]
  },
  {
   "cell_type": "code",
   "execution_count": 3,
   "id": "032bddfb",
   "metadata": {},
   "outputs": [],
   "source": [
    "import csv\n",
    "\n",
    "def create_student_marks_file():\n",
    "    data = [\n",
    "        [\"John Doe\", 85, 78, 90, 88],\n",
    "        [\"Jane Smith\", 92, 89, 78, 95],\n",
    "        [\"Mike Johnson\", 78, 85, 80, 92],\n",
    "        [\"Sarah Lee\", 89, 92, 85, 90],\n",
    "        [\"Chris Williams\", 76, 80, 78, 84]\n",
    "    ]\n",
    "\n",
    "    with open(\"student_marks.csv\", \"w\", newline=\"\") as file:\n",
    "        writer = csv.writer(file)\n",
    "        writer.writerow([\"Student Name\", \"Mark1\", \"Mark2\", \"Mark3\", \"Mark4\"])\n",
    "        writer.writerows(data)\n",
    "\n",
    "# Call the function to create the CSV file\n",
    "create_student_marks_file()\n"
   ]
  },
  {
   "cell_type": "code",
   "execution_count": 4,
   "id": "95a3563e",
   "metadata": {},
   "outputs": [
    {
     "name": "stdout",
     "output_type": "stream",
     "text": [
      "Student Name,Mark1,Mark2,Mark3,Mark4\n",
      "John Doe,85,78,90,88\n",
      "Jane Smith,92,89,78,95\n",
      "Mike Johnson,78,85,80,92\n",
      "Sarah Lee,89,92,85,90\n",
      "Chris Williams,76,80,78,84\n"
     ]
    }
   ],
   "source": [
    "def display_student_marks_file():\n",
    "    with open(\"student_marks.csv\", \"r\") as file:\n",
    "        reader = csv.reader(file)\n",
    "        for row in reader:\n",
    "            print(\",\".join(row))\n",
    "\n",
    "# Call the function to display the CSV file contents\n",
    "display_student_marks_file()\n"
   ]
  },
  {
   "cell_type": "code",
   "execution_count": 6,
   "id": "954c31da",
   "metadata": {},
   "outputs": [
    {
     "name": "stdout",
     "output_type": "stream",
     "text": [
      "Enter student name: joel\n",
      "Enter mark 1: 56\n",
      "Enter mark 2: 67\n",
      "Enter mark 3: 78\n",
      "Enter mark 4: 89\n"
     ]
    }
   ],
   "source": [
    "def write_student_details():\n",
    "    student_name = input(\"Enter student name: \")\n",
    "    marks = []\n",
    "    for i in range(4):\n",
    "        mark = float(input(f\"Enter mark {i + 1}: \"))\n",
    "        marks.append(mark)\n",
    "\n",
    "    with open(\"student_marks.csv\", \"a\", newline=\"\") as file:\n",
    "        writer = csv.writer(file)\n",
    "        writer.writerow([student_name] + marks)\n",
    "\n",
    "# Call the function to write new student details\n",
    "write_student_details()\n",
    "\n"
   ]
  },
  {
   "cell_type": "code",
   "execution_count": null,
   "id": "f05e9a47",
   "metadata": {},
   "outputs": [],
   "source": []
  }
 ],
 "metadata": {
  "kernelspec": {
   "display_name": "Python 3 (ipykernel)",
   "language": "python",
   "name": "python3"
  },
  "language_info": {
   "codemirror_mode": {
    "name": "ipython",
    "version": 3
   },
   "file_extension": ".py",
   "mimetype": "text/x-python",
   "name": "python",
   "nbconvert_exporter": "python",
   "pygments_lexer": "ipython3",
   "version": "3.11.3"
  }
 },
 "nbformat": 4,
 "nbformat_minor": 5
}
